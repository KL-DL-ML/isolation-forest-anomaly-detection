{
 "cells": [
  {
   "cell_type": "code",
   "execution_count": 1,
   "metadata": {},
   "outputs": [],
   "source": [
    "import os\n",
    "import numpy as np\n",
    "import pandas as pd\n",
    "import plotly.graph_objects as go\n",
    "import plotly.express as px"
   ]
  },
  {
   "cell_type": "code",
   "execution_count": 3,
   "metadata": {},
   "outputs": [
    {
     "name": "stdout",
     "output_type": "stream",
     "text": [
      "./solar_power_generation_data/Plant_2_Generation_Data.csv\n",
      "./solar_power_generation_data/Plant_1_Generation_Data.csv\n",
      "./solar_power_generation_data/Plant_2_Weather_Sensor_Data.csv\n",
      "./solar_power_generation_data/Plant_1_Weather_Sensor_Data.csv\n"
     ]
    }
   ],
   "source": [
    "for dirname, _, filenames in os.walk('./solar_power_generation_data'):\n",
    "    for filename in filenames:\n",
    "        print(os.path.join(dirname, filename))"
   ]
  },
  {
   "cell_type": "code",
   "execution_count": null,
   "metadata": {},
   "outputs": [],
   "source": []
  }
 ],
 "metadata": {
  "kernelspec": {
   "display_name": "Python 3.10.4 ('tsad')",
   "language": "python",
   "name": "python3"
  },
  "language_info": {
   "codemirror_mode": {
    "name": "ipython",
    "version": 3
   },
   "file_extension": ".py",
   "mimetype": "text/x-python",
   "name": "python",
   "nbconvert_exporter": "python",
   "pygments_lexer": "ipython3",
   "version": "3.10.4"
  },
  "orig_nbformat": 4,
  "vscode": {
   "interpreter": {
    "hash": "e8ada1a768976ebb41c7710e5a5355e6a4abd02595c80ebf4a115842e7fd7e19"
   }
  }
 },
 "nbformat": 4,
 "nbformat_minor": 2
}
